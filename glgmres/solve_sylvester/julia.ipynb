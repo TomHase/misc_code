{
 "cells": [
  {
   "cell_type": "code",
   "execution_count": 1,
   "metadata": {
    "collapsed": true
   },
   "outputs": [],
   "source": [
    "include(\"solve_sylvester.jl\");"
   ]
  },
  {
   "cell_type": "code",
   "execution_count": 2,
   "metadata": {
    "collapsed": true
   },
   "outputs": [],
   "source": [
    "n=20;\n",
    "A = rand((n,n));\n",
    "B = rand((n,n));\n",
    "C = rand((n,n));\n",
    "D = rand((n,n));\n",
    "I = eye(n);"
   ]
  },
  {
   "cell_type": "code",
   "execution_count": 3,
   "metadata": {},
   "outputs": [
    {
     "data": {
      "text/plain": [
       "test_sylv (generic function with 1 method)"
      ]
     },
     "execution_count": 3,
     "metadata": {},
     "output_type": "execute_result"
    }
   ],
   "source": [
    "function test_sylv(A, B, C, D, I)\n",
    "    X = solve_sylvester([A,B],[I,C],D)\n",
    "    test = A*X + B*X*C - D\n",
    "    return maximum(abs(test))\n",
    "end    "
   ]
  },
  {
   "cell_type": "code",
   "execution_count": 4,
   "metadata": {},
   "outputs": [
    {
     "data": {
      "text/plain": [
       "test_direct (generic function with 1 method)"
      ]
     },
     "execution_count": 4,
     "metadata": {},
     "output_type": "execute_result"
    }
   ],
   "source": [
    "function test_direct(A, B, C, D, I)\n",
    "    X = reshape(inv((kron(B', A) + kron(C', I)))*vec(D), n,n);\n",
    "    test = A*X + B*X*C - D\n",
    "    return maximum(abs(test))\n",
    "end    "
   ]
  },
  {
   "cell_type": "code",
   "execution_count": 9,
   "metadata": {},
   "outputs": [
    {
     "name": "stdout",
     "output_type": "stream",
     "text": [
      "  1.769597 seconds (2.44 M allocations: 1.820 GB, 21.32% gc time)\n"
     ]
    },
    {
     "data": {
      "text/plain": [
       "3.175237850427948e-14"
      ]
     },
     "execution_count": 9,
     "metadata": {},
     "output_type": "execute_result"
    }
   ],
   "source": [
    "@time test_sylv(A, B, C, D, I)"
   ]
  },
  {
   "cell_type": "code",
   "execution_count": 10,
   "metadata": {},
   "outputs": [
    {
     "name": "stdout",
     "output_type": "stream",
     "text": [
      "  0.032519 seconds (39 allocations: 6.332 MB, 11.84% gc time)\n"
     ]
    },
    {
     "data": {
      "text/plain": [
       "16.35008122682274"
      ]
     },
     "execution_count": 10,
     "metadata": {},
     "output_type": "execute_result"
    }
   ],
   "source": [
    "@time test_direct(A, B, C, D, I)"
   ]
  },
  {
   "cell_type": "code",
   "execution_count": null,
   "metadata": {
    "collapsed": true
   },
   "outputs": [],
   "source": []
  }
 ],
 "metadata": {
  "kernelspec": {
   "display_name": "Julia 0.5.1",
   "language": "julia",
   "name": "julia-0.5"
  },
  "language_info": {
   "file_extension": ".jl",
   "mimetype": "application/julia",
   "name": "julia",
   "version": "0.5.1"
  }
 },
 "nbformat": 4,
 "nbformat_minor": 2
}
