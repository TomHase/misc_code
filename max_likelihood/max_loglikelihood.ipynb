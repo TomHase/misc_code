{
 "cells": [
  {
   "cell_type": "markdown",
   "metadata": {},
   "source": [
    "### Normal Distribution\n",
    "\n",
    "$\\mathcal{L}(\\mu, \\sigma) = -\\frac{n}{2} log(2 \\pi \\sigma ^2) - \\frac{1}{2 \\sigma ^ 2} (y-X\\beta)'(y-X\\beta)$"
   ]
  },
  {
   "cell_type": "code",
   "execution_count": 1,
   "metadata": {
    "collapsed": false
   },
   "outputs": [
    {
     "data": {
      "image/png": "[encoded data removed]",
      "text/plain": [
       "<matplotlib.figure.Figure at 0x1048958d0>"
      ]
     },
     "metadata": {},
     "output_type": "display_data"
    }
   ],
   "source": [
    "import numpy as np\n",
    "import matplotlib.pyplot as plt\n",
    "\n",
    "beta = np.array([3,5])\n",
    "sigma = np.sqrt(10)\n",
    "\n",
    "# Generate the data from the true model\n",
    "x=np.vstack([np.ones([100,]),np.random.normal(loc=5, scale=5, size=100)]).T\n",
    "epsilon = np.random.normal(loc=0, scale=sigma**2, size=100) # epsilon ~ N(0,sigma^2)\n",
    "y= np.dot(x,beta) + epsilon\n",
    "\n",
    "# Plot the data\n",
    "plt.scatter(x[:,1], y)\n",
    "plt.title('Data')\n",
    "plt.xlabel('x')\n",
    "plt.ylabel('y')\n",
    "plt.show()"
   ]
  },
  {
   "cell_type": "markdown",
   "metadata": {},
   "source": [
    "$\\theta = (\\beta, \\sigma)'$"
   ]
  },
  {
   "cell_type": "code",
   "execution_count": 2,
   "metadata": {
    "collapsed": false
   },
   "outputs": [],
   "source": [
    "# Likelihood function\n",
    "from log_likelihood import log_likelihood"
   ]
  },
  {
   "cell_type": "code",
   "execution_count": 3,
   "metadata": {
    "collapsed": false
   },
   "outputs": [],
   "source": [
    "# Directly maximizing the likelihood function\n",
    "\n",
    "theta = np.append(beta,sigma)\n",
    "import scipy.optimize as op\n",
    "objective = lambda theta: -log_likelihood(theta, y, x)\n",
    "result = op.minimize(objective, theta)\n",
    "res=result[\"x\"]\n",
    "\n",
    "beta_hat1 = res[0:-1]\n",
    "sigma_hat1 = res[-1] "
   ]
  },
  {
   "cell_type": "markdown",
   "metadata": {},
   "source": [
    "$\\hat\\beta$ should be equal to $(x'x)^{-1}x'y$\n",
    "\n",
    "$\\hat\\sigma^2$ should be equal to $\\frac{1}{n}(y-x\\beta)'(y-x\\beta)$"
   ]
  },
  {
   "cell_type": "code",
   "execution_count": 4,
   "metadata": {
    "collapsed": false
   },
   "outputs": [
    {
     "name": "stdout",
     "output_type": "stream",
     "text": [
      "[ 3.08722232  4.67332241] [ 3.08723099  4.67332156]\n"
     ]
    }
   ],
   "source": [
    "beta_hat2 = np.dot(np.dot(np.linalg.inv(np.dot(x.T,x)),x.T),y) # (X'X)^-1 (X'y)\n",
    "\n",
    "print(beta_hat1, beta_hat2)"
   ]
  },
  {
   "cell_type": "code",
   "execution_count": 5,
   "metadata": {
    "collapsed": false
   },
   "outputs": [
    {
     "name": "stdout",
     "output_type": "stream",
     "text": [
      "10.5951970331 10.5951945414\n"
     ]
    }
   ],
   "source": [
    "sigma_hat2 = np.sqrt((1/x.shape[0]) * np.dot((y-np.dot(x,beta_hat2)).T,(y-np.dot(x,beta_hat2)))) # (1/n)(y-Xb)'(y-Xb)\n",
    "\n",
    "print(sigma_hat1, sigma_hat2)"
   ]
  },
  {
   "cell_type": "code",
   "execution_count": 6,
   "metadata": {
    "collapsed": false
   },
   "outputs": [
    {
     "data": {
      "image/png": "[encoded data removed]",
      "text/plain": [
       "<matplotlib.figure.Figure at 0x10ab00630>"
      ]
     },
     "metadata": {},
     "output_type": "display_data"
    }
   ],
   "source": [
    "y_hat = np.dot(x,beta_hat1)\n",
    "\n",
    "#Plot\n",
    "plt.scatter(x[:,1], y)\n",
    "plt.plot(x[:,1], y_hat,'k')\n",
    "plt.title('Data and y_hat')\n",
    "plt.xlabel('x')\n",
    "plt.ylabel('y')\n",
    "plt.show()"
   ]
  }
 ],
 "metadata": {
  "kernelspec": {
   "display_name": "Python [py35]",
   "language": "python",
   "name": "Python [py35]"
  },
  "language_info": {
   "codemirror_mode": {
    "name": "ipython",
    "version": 3
   },
   "file_extension": ".py",
   "mimetype": "text/x-python",
   "name": "python",
   "nbconvert_exporter": "python",
   "pygments_lexer": "ipython3",
   "version": "3.5.2"
  }
 },
 "nbformat": 4,
 "nbformat_minor": 0
}
